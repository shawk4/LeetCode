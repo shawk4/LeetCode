{
 "cells": [
  {
   "cell_type": "code",
   "execution_count": null,
   "metadata": {},
   "outputs": [],
   "source": [
    "# Task:\n",
    "# Write a program that randomly generates a 4 digit number. The user has maximum 10 tries to guess the number.\n",
    "\n",
    "# If any of the digit guessed is wrong, print \"A\" to indicate wrong guess.\n",
    "\n",
    "# If the digit is guessed correctly but in the wrong position, print \"B\".\n",
    "\n",
    "# If the digit guessed is both the correct value and position, print \"C\".\n",
    "\n",
    "import random\n",
    "\n"
   ]
  },
  {
   "cell_type": "code",
   "execution_count": null,
   "metadata": {},
   "outputs": [],
   "source": [
    "\n",
    "def generate_number():\n",
    "  goal = [random.randint(0,9) for i in range(4)]\n",
    "  return goal\n"
   ]
  },
  {
   "cell_type": "code",
   "execution_count": null,
   "metadata": {},
   "outputs": [],
   "source": [
    "def input_guess():\n",
    "  guess = input(\"Enter your guess: \")\n",
    "  return guess"
   ]
  },
  {
   "cell_type": "code",
   "execution_count": null,
   "metadata": {},
   "outputs": [],
   "source": [
    "def start_game():\n",
    "  goal = generate_number()\n",
    "  print(goal)\n",
    "\n",
    "  for i in range(10):\n",
    "    guess = input_guess()\n",
    "    guess = [int(c) for c in guess]\n",
    "    print(guess)\n",
    "\n",
    "    for val_guess, val_goal in zip(guess,goal):\n",
    "      if val_guess == val_goal:\n",
    "        print(\"C\",end='')\n",
    "      elif val_guess in goal:\n",
    "        print(\"B\",end='')\n",
    "      else:\n",
    "        print(\"A\",end='')\n",
    "    \n",
    "\n",
    "    if guess == goal:\n",
    "      print(\"\\nCongradulations! You Win!\")\n",
    "      break"
   ]
  },
  {
   "cell_type": "code",
   "execution_count": null,
   "metadata": {},
   "outputs": [],
   "source": [
    "start_game()"
   ]
  }
 ],
 "metadata": {
  "language_info": {
   "name": "python"
  }
 },
 "nbformat": 4,
 "nbformat_minor": 2
}
